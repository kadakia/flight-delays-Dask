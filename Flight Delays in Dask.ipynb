{
 "cells": [
  {
   "cell_type": "markdown",
   "metadata": {},
   "source": [
    "# Partial flight delays analysis using Dask"
   ]
  },
  {
   "cell_type": "code",
   "execution_count": 33,
   "metadata": {},
   "outputs": [],
   "source": [
    "from dask import delayed\n",
    "# import dask.array as da\n",
    "# dask.bags\n",
    "import dask.dataframe as dd\n",
    "import numpy as np\n",
    "import pandas as pd"
   ]
  },
  {
   "cell_type": "markdown",
   "metadata": {},
   "source": [
    "### Brief experimentation with RohanApp API"
   ]
  },
  {
   "cell_type": "code",
   "execution_count": 15,
   "metadata": {},
   "outputs": [],
   "source": [
    "import requests"
   ]
  },
  {
   "cell_type": "code",
   "execution_count": 16,
   "metadata": {},
   "outputs": [],
   "source": [
    "url = 'https://rohan-app.herokuapp.com/api/users/1'"
   ]
  },
  {
   "cell_type": "code",
   "execution_count": 24,
   "metadata": {},
   "outputs": [],
   "source": [
    "data = requests.get(url).content"
   ]
  },
  {
   "cell_type": "code",
   "execution_count": 25,
   "metadata": {},
   "outputs": [
    {
     "data": {
      "text/plain": [
       "b'{\\n  \"_links\": {\\n    \"avatar\": \"https://www.gravatar.com/avatar/f7dc6dbdb953003fbe0c31a06aed0025?d=identicon&s=128\", \\n    \"followed\": \"/api/users/1/followed\", \\n    \"followers\": \"/api/users/1/followers\", \\n    \"self\": \"/api/users/1\"\\n  }, \\n  \"about_me\": \"Hi.  I\\'m the creator of this site.\", \\n  \"followed_count\": 2, \\n  \"follower_count\": 2, \\n  \"id\": 1, \\n  \"last_seen\": \"2018-05-30T06:52:34.230154Z\", \\n  \"post_count\": 25, \\n  \"username\": \"rohan\"\\n}\\n'"
      ]
     },
     "execution_count": 25,
     "metadata": {},
     "output_type": "execute_result"
    }
   ],
   "source": [
    "data"
   ]
  },
  {
   "cell_type": "markdown",
   "metadata": {},
   "source": [
    "### End of tangent"
   ]
  },
  {
   "cell_type": "code",
   "execution_count": 27,
   "metadata": {},
   "outputs": [],
   "source": [
    "# Define @delayed-function read_flights\n",
    "@delayed\n",
    "def read_flights(filename):\n",
    "\n",
    "    # Read in the DataFrame\n",
    "    df = pd.read_csv(filename, parse_dates=['FL_DATE']) # FL_DATE column as datetimes\n",
    "\n",
    "    # Calculate df['WEATHER_DELAY']\n",
    "    df['WEATHER_DELAY'] = df['WEATHER_DELAY'].replace(0, np.nan)\n",
    "    # Condition on there being a delay, helpful for counting the number of delays\n",
    "\n",
    "    # Return df\n",
    "    return df"
   ]
  },
  {
   "cell_type": "code",
   "execution_count": 29,
   "metadata": {},
   "outputs": [
    {
     "name": "stdout",
     "output_type": "stream",
     "text": [
      "flightdelays-2016-1.csv  flightdelays-2016-3.csv  flightdelays-2016-5.csv\r\n",
      "flightdelays-2016-2.csv  flightdelays-2016-4.csv\r\n"
     ]
    }
   ],
   "source": [
    "ls flightdelays/"
   ]
  },
  {
   "cell_type": "code",
   "execution_count": 30,
   "metadata": {},
   "outputs": [],
   "source": [
    "# Data from Bureau of Transportation Statistics\n",
    "filenames = ['flightdelays-2016-1.csv', 'flightdelays-2016-2.csv',\n",
    "             'flightdelays-2016-3.csv', 'flightdelays-2016-4.csv',\n",
    "             'flightdelays-2016-5.csv']"
   ]
  },
  {
   "cell_type": "code",
   "execution_count": 34,
   "metadata": {},
   "outputs": [
    {
     "name": "stdout",
     "output_type": "stream",
     "text": [
      "51.29467680608365\n",
      "CPU times: user 1.59 s, sys: 239 ms, total: 1.83 s\n",
      "Wall time: 1.05 s\n"
     ]
    }
   ],
   "source": [
    "dataframes = []\n",
    "\n",
    "# Loop over filenames with index filename\n",
    "for filename in filenames:\n",
    "    # Apply read_flights to filename; append to dataframes\n",
    "    dataframes.append(read_flights('flightdelays/' + filename))\n",
    "\n",
    "# From 5 pandas dataframes to a single dask dataframe***\n",
    "flight_delays = dd.from_delayed(dataframes)\n",
    "\n",
    "# Print average of 'WEATHER_DELAY' column of flight_delays\n",
    "%time print(flight_delays['WEATHER_DELAY'].mean().compute())"
   ]
  },
  {
   "cell_type": "markdown",
   "metadata": {},
   "source": [
    "Assuming flight was delayed (during first five months of 2016), average delay was about 51 minutes."
   ]
  },
  {
   "cell_type": "code",
   "execution_count": 35,
   "metadata": {},
   "outputs": [],
   "source": [
    "persisted_flight_delays = flight_delays.persist() # Can do this because flight_delays fits in memory!"
   ]
  },
  {
   "cell_type": "code",
   "execution_count": 36,
   "metadata": {},
   "outputs": [
    {
     "name": "stdout",
     "output_type": "stream",
     "text": [
      "51.29467680608365\n",
      "CPU times: user 11.3 ms, sys: 2.24 ms, total: 13.5 ms\n",
      "Wall time: 10.1 ms\n"
     ]
    }
   ],
   "source": [
    "%time print(persisted_flight_delays['WEATHER_DELAY'].mean().compute())"
   ]
  },
  {
   "cell_type": "code",
   "execution_count": 59,
   "metadata": {},
   "outputs": [],
   "source": [
    "# Define @delayed-function read_weather with input filename\n",
    "@delayed\n",
    "def read_weather(filename):\n",
    "    # Read in filename\n",
    "    df = pd.read_csv(filename, parse_dates=['Date'])\n",
    "\n",
    "    # Clean 'PrecipitationIn' since this column is initially object not float\n",
    "    df['PrecipitationIn'] = pd.to_numeric(df['PrecipitationIn'], errors='coerce')\n",
    "\n",
    "    # Create the 'Airport' column\n",
    "    # df['Airport'] = filename.split('.')[0]\n",
    "    df['Airport'] = filename[12:15]\n",
    "\n",
    "    # Return df\n",
    "    return df"
   ]
  },
  {
   "cell_type": "code",
   "execution_count": 60,
   "metadata": {},
   "outputs": [
    {
     "name": "stdout",
     "output_type": "stream",
     "text": [
      "ATL.csv       DFW.csv       ORD.csv       pitt2016.csv\r\n",
      "DEN.csv       MCO.csv       ord2016.csv\r\n"
     ]
    }
   ],
   "source": [
    "ls weatherdata/"
   ]
  },
  {
   "cell_type": "code",
   "execution_count": 61,
   "metadata": {},
   "outputs": [],
   "source": [
    "# Data from Weather Underground\n",
    "filenames = ['ATL.csv', 'DFW.csv', 'ORD.csv', 'DEN.csv', 'MCO.csv']\n",
    "# Atlanta, Dallas-Fort Worth, Chicago O'Hare, Denver, Orlando"
   ]
  },
  {
   "cell_type": "code",
   "execution_count": 62,
   "metadata": {},
   "outputs": [
    {
     "name": "stdout",
     "output_type": "stream",
     "text": [
      "          Date  Max TemperatureF  Mean TemperatureF  Min TemperatureF  \\\n",
      "224 2016-08-12               107                 93                79   \n",
      "\n",
      "     Max Dew PointF  MeanDew PointF  Min DewpointF  Max Humidity  \\\n",
      "224              75              71             66            79   \n",
      "\n",
      "     Mean Humidity  Min Humidity   ...     Mean VisibilityMiles  \\\n",
      "224             53            27   ...                        8   \n",
      "\n",
      "     Min VisibilityMiles  Max Wind SpeedMPH  Mean Wind SpeedMPH  \\\n",
      "224                    0                 41                  10   \n",
      "\n",
      "     Max Gust SpeedMPH  PrecipitationIn  CloudCover             Events  \\\n",
      "224               54.0             0.82           5  Rain-Thunderstorm   \n",
      "\n",
      "     WindDirDegrees  Airport  \n",
      "224             214      DFW  \n",
      "\n",
      "[1 rows x 24 columns]\n"
     ]
    }
   ],
   "source": [
    "weather_dfs = []\n",
    "\n",
    "# Loop over filenames with filename\n",
    "for filename in filenames:\n",
    "    # Invoke read_weather on filename; append result to weather_dfs\n",
    "    weather_dfs.append(read_weather('weatherdata/' + filename))\n",
    "\n",
    "# Call dd.from_delayed() with weather_dfs\n",
    "weather = dd.from_delayed(weather_dfs)\n",
    "\n",
    "# Print result of weather.nlargest(1, 'Max TemperatureF')\n",
    "# Prints whole row\n",
    "print(weather.nlargest(1, 'Max TemperatureF').compute())"
   ]
  },
  {
   "cell_type": "markdown",
   "metadata": {},
   "source": [
    "Among the five airports, max temperature in 2016 was 107 degrees F, at DFW on Aug 12."
   ]
  },
  {
   "cell_type": "code",
   "execution_count": 63,
   "metadata": {},
   "outputs": [
    {
     "data": {
      "text/plain": [
       "Index(['Date', 'Max TemperatureF', 'Mean TemperatureF', 'Min TemperatureF',\n",
       "       'Max Dew PointF', 'MeanDew PointF', 'Min DewpointF', 'Max Humidity',\n",
       "       'Mean Humidity', 'Min Humidity', 'Max Sea Level PressureIn',\n",
       "       'Mean Sea Level PressureIn', 'Min Sea Level PressureIn',\n",
       "       'Max VisibilityMiles', 'Mean VisibilityMiles', 'Min VisibilityMiles',\n",
       "       'Max Wind SpeedMPH', 'Mean Wind SpeedMPH', 'Max Gust SpeedMPH',\n",
       "       'PrecipitationIn', 'CloudCover', 'Events', 'WindDirDegrees', 'Airport'],\n",
       "      dtype='object')"
      ]
     },
     "execution_count": 63,
     "metadata": {},
     "output_type": "execute_result"
    }
   ],
   "source": [
    "weather.columns"
   ]
  },
  {
   "cell_type": "code",
   "execution_count": 64,
   "metadata": {},
   "outputs": [
    {
     "data": {
      "text/plain": [
       "Index(['FL_DATE', 'UNIQUE_CARRIER', 'FL_NUM', 'ORIGIN', 'ORIGIN_CITY_NAME',\n",
       "       'ORIGIN_STATE_ABR', 'ORIGIN_STATE_NM', 'DEST', 'DEST_CITY_NAME',\n",
       "       'DEST_STATE_ABR', 'DEST_STATE_NM', 'CRS_DEP_TIME', 'DEP_DELAY',\n",
       "       'CRS_ARR_TIME', 'ARR_DELAY', 'CANCELLED', 'DIVERTED', 'CARRIER_DELAY',\n",
       "       'WEATHER_DELAY', 'NAS_DELAY', 'SECURITY_DELAY', 'LATE_AIRCRAFT_DELAY',\n",
       "       'Unnamed: 22'],\n",
       "      dtype='object')"
      ]
     },
     "execution_count": 64,
     "metadata": {},
     "output_type": "execute_result"
    }
   ],
   "source": [
    "flight_delays.columns"
   ]
  },
  {
   "cell_type": "code",
   "execution_count": 66,
   "metadata": {},
   "outputs": [],
   "source": [
    "flight_delays_abb = flight_delays[['FL_DATE','ORIGIN','WEATHER_DELAY']]"
   ]
  },
  {
   "cell_type": "code",
   "execution_count": 67,
   "metadata": {},
   "outputs": [],
   "source": [
    "weather_abb = weather[['Date','Airport','Events','PrecipitationIn']]"
   ]
  },
  {
   "cell_type": "code",
   "execution_count": 68,
   "metadata": {},
   "outputs": [],
   "source": [
    "# dd.merge?\n",
    "weather_delays = weather_abb.merge(flight_delays_abb, left_on=['Date','Airport'], right_on=['FL_DATE','ORIGIN'], how='inner')"
   ]
  },
  {
   "cell_type": "code",
   "execution_count": 69,
   "metadata": {},
   "outputs": [
    {
     "data": {
      "text/plain": [
       "Index(['Date', 'Airport', 'Events', 'PrecipitationIn', 'FL_DATE', 'ORIGIN',\n",
       "       'WEATHER_DELAY'],\n",
       "      dtype='object')"
      ]
     },
     "execution_count": 69,
     "metadata": {},
     "output_type": "execute_result"
    }
   ],
   "source": [
    "weather_delays.columns"
   ]
  },
  {
   "cell_type": "code",
   "execution_count": 70,
   "metadata": {},
   "outputs": [
    {
     "data": {
      "text/plain": [
       "dask.dataframe.core.DataFrame"
      ]
     },
     "execution_count": 70,
     "metadata": {},
     "output_type": "execute_result"
    }
   ],
   "source": [
    "type(weather_delays)"
   ]
  },
  {
   "cell_type": "code",
   "execution_count": 71,
   "metadata": {},
   "outputs": [],
   "source": [
    "persisted_weather_delays = weather_delays.persist()"
   ]
  },
  {
   "cell_type": "code",
   "execution_count": 72,
   "metadata": {},
   "outputs": [
    {
     "name": "stdout",
     "output_type": "stream",
     "text": [
      "Events\n",
      "Rain-Thunderstorm        43.016760\n",
      "Snow                     17.557861\n",
      "Fog-Snow                  7.182761\n",
      "Rain                      6.464485\n",
      "Fog-Rain-Thunderstorm     4.309657\n",
      "Name: WEATHER_DELAY, dtype: float64\n",
      "Events\n",
      "Rain-Snow                77.725490\n",
      "Thunderstorm             72.500000\n",
      "Fog-Rain                 55.000000\n",
      "Rain-Thunderstorm        47.335807\n",
      "Fog-Rain-Thunderstorm    39.685185\n",
      "Name: WEATHER_DELAY, dtype: float64\n"
     ]
    }
   ],
   "source": [
    "# Group persisted_weather_delays by 'Events'\n",
    "by_event = persisted_weather_delays.groupby('Events')\n",
    "\n",
    "# Count by_event['WEATHER_DELAY'] column & divide by total number of delayed flights\n",
    "pct_delayed = by_event['WEATHER_DELAY'].count() / persisted_weather_delays['WEATHER_DELAY'].count() * 100\n",
    "\n",
    "# Compute & print five largest values of pct_delayed\n",
    "print(pct_delayed.nlargest(5).compute())\n",
    "\n",
    "# Calculate mean of by_event['WEATHER_DELAY'] column & return the 5 largest entries\n",
    "avg_delay_time = by_event['WEATHER_DELAY'].mean().nlargest(5)\n",
    "\n",
    "# Compute & print avg_delay_time\n",
    "print(avg_delay_time.compute())"
   ]
  },
  {
   "cell_type": "markdown",
   "metadata": {},
   "source": [
    "'Rain-Snow' caused longest delays on average, while 'Rain-Thunderstorm' accounted for a plurality of delays."
   ]
  }
 ],
 "metadata": {
  "kernelspec": {
   "display_name": "Python 3",
   "language": "python",
   "name": "python3"
  },
  "language_info": {
   "codemirror_mode": {
    "name": "ipython",
    "version": 3
   },
   "file_extension": ".py",
   "mimetype": "text/x-python",
   "name": "python",
   "nbconvert_exporter": "python",
   "pygments_lexer": "ipython3",
   "version": "3.6.4"
  }
 },
 "nbformat": 4,
 "nbformat_minor": 2
}
